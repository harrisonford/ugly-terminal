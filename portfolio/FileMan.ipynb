{
 "cells": [
  {
   "cell_type": "markdown",
   "metadata": {
    "collapsed": true,
    "pycharm": {
     "name": "#%% md\n"
    }
   },
   "source": [
    "# Understanding Portfolio Files"
   ]
  },
  {
   "cell_type": "code",
   "execution_count": 8,
   "outputs": [],
   "source": [
    "import pandas as pd"
   ],
   "metadata": {
    "collapsed": false,
    "pycharm": {
     "name": "#%%\n"
    }
   }
  },
  {
   "cell_type": "markdown",
   "source": [
    "## Buda's \"Cartola\"\n",
    "\n",
    "Buda is my starting point with crypto investments, I will transform the Excel file into\n",
    "something I'm more comfortable with (.csv/Dataframe)."
   ],
   "metadata": {
    "collapsed": false,
    "pycharm": {
     "name": "#%% md\n"
    }
   }
  },
  {
   "cell_type": "code",
   "execution_count": 9,
   "outputs": [
    {
     "data": {
      "text/plain": "                                     id                             operacion  \\\n0  1891b6eb-d873-41de-bce2-07424be173fc  09a65493-a7a4-4a02-92a2-9ac434036653   \n1  7f568561-3caf-4f4d-89d2-66c8bc07436e  09a65493-a7a4-4a02-92a2-9ac434036653   \n2  b8558503-edbd-4b02-aae0-209ade360b9a  09a65493-a7a4-4a02-92a2-9ac434036653   \n3  109a087a-29ba-4fa8-9cce-8f663def9f7c  105ca170-733f-4a39-b578-e1310b1c41a2   \n4  89dc908d-972e-41b9-875d-d5c3739f4be6  105ca170-733f-4a39-b578-e1310b1c41a2   \n\n                     fecha moneda          monto        balance  \\\n0  2021-03-11 14:53:58 UTC    CLP -700000.000000  172772.700000   \n1  2021-03-11 14:53:58 UTC    ETH      -0.001870       0.972892   \n2  2021-03-11 14:53:58 UTC    ETH       0.534351       0.974762   \n3  2021-03-11 14:43:15 UTC    ETH      -0.011440       0.440411   \n4  2021-03-11 14:43:15 UTC    ETH      -0.500000       0.451851   \n\n           detalle  mercado     precio  \n0           compra  ETH-CLP  1310000.0  \n1  comision compra  ETH-CLP        NaN  \n2           compra  ETH-CLP  1310000.0  \n3  comision retiro      NaN        NaN  \n4           retiro      NaN        NaN  ",
      "text/html": "<div>\n<style scoped>\n    .dataframe tbody tr th:only-of-type {\n        vertical-align: middle;\n    }\n\n    .dataframe tbody tr th {\n        vertical-align: top;\n    }\n\n    .dataframe thead th {\n        text-align: right;\n    }\n</style>\n<table border=\"1\" class=\"dataframe\">\n  <thead>\n    <tr style=\"text-align: right;\">\n      <th></th>\n      <th>id</th>\n      <th>operacion</th>\n      <th>fecha</th>\n      <th>moneda</th>\n      <th>monto</th>\n      <th>balance</th>\n      <th>detalle</th>\n      <th>mercado</th>\n      <th>precio</th>\n    </tr>\n  </thead>\n  <tbody>\n    <tr>\n      <th>0</th>\n      <td>1891b6eb-d873-41de-bce2-07424be173fc</td>\n      <td>09a65493-a7a4-4a02-92a2-9ac434036653</td>\n      <td>2021-03-11 14:53:58 UTC</td>\n      <td>CLP</td>\n      <td>-700000.000000</td>\n      <td>172772.700000</td>\n      <td>compra</td>\n      <td>ETH-CLP</td>\n      <td>1310000.0</td>\n    </tr>\n    <tr>\n      <th>1</th>\n      <td>7f568561-3caf-4f4d-89d2-66c8bc07436e</td>\n      <td>09a65493-a7a4-4a02-92a2-9ac434036653</td>\n      <td>2021-03-11 14:53:58 UTC</td>\n      <td>ETH</td>\n      <td>-0.001870</td>\n      <td>0.972892</td>\n      <td>comision compra</td>\n      <td>ETH-CLP</td>\n      <td>NaN</td>\n    </tr>\n    <tr>\n      <th>2</th>\n      <td>b8558503-edbd-4b02-aae0-209ade360b9a</td>\n      <td>09a65493-a7a4-4a02-92a2-9ac434036653</td>\n      <td>2021-03-11 14:53:58 UTC</td>\n      <td>ETH</td>\n      <td>0.534351</td>\n      <td>0.974762</td>\n      <td>compra</td>\n      <td>ETH-CLP</td>\n      <td>1310000.0</td>\n    </tr>\n    <tr>\n      <th>3</th>\n      <td>109a087a-29ba-4fa8-9cce-8f663def9f7c</td>\n      <td>105ca170-733f-4a39-b578-e1310b1c41a2</td>\n      <td>2021-03-11 14:43:15 UTC</td>\n      <td>ETH</td>\n      <td>-0.011440</td>\n      <td>0.440411</td>\n      <td>comision retiro</td>\n      <td>NaN</td>\n      <td>NaN</td>\n    </tr>\n    <tr>\n      <th>4</th>\n      <td>89dc908d-972e-41b9-875d-d5c3739f4be6</td>\n      <td>105ca170-733f-4a39-b578-e1310b1c41a2</td>\n      <td>2021-03-11 14:43:15 UTC</td>\n      <td>ETH</td>\n      <td>-0.500000</td>\n      <td>0.451851</td>\n      <td>retiro</td>\n      <td>NaN</td>\n      <td>NaN</td>\n    </tr>\n  </tbody>\n</table>\n</div>"
     },
     "execution_count": 9,
     "metadata": {},
     "output_type": "execute_result"
    }
   ],
   "source": [
    "fname = 'buda'\n",
    "buda = pd.read_excel(rf'C:\\Users\\Kristofher\\PycharmProjects\\ugly-terminal\\portfolio\\{fname}.xlsx')\n",
    "buda.to_csv(f'{fname}.csv', header=True)\n",
    "buda.head()"
   ],
   "metadata": {
    "collapsed": false,
    "pycharm": {
     "name": "#%%\n"
    }
   }
  },
  {
   "cell_type": "code",
   "execution_count": 10,
   "outputs": [
    {
     "data": {
      "text/plain": "                              operacion                    fecha moneda  \\\n0  09a65493-a7a4-4a02-92a2-9ac434036653  2021-03-11 14:53:58 UTC    CLP   \n1  09a65493-a7a4-4a02-92a2-9ac434036653  2021-03-11 14:53:58 UTC    ETH   \n2  09a65493-a7a4-4a02-92a2-9ac434036653  2021-03-11 14:53:58 UTC    ETH   \n3  105ca170-733f-4a39-b578-e1310b1c41a2  2021-03-11 14:43:15 UTC    ETH   \n4  105ca170-733f-4a39-b578-e1310b1c41a2  2021-03-11 14:43:15 UTC    ETH   \n\n           monto          detalle     precio  \n0 -700000.000000           compra  1310000.0  \n1      -0.001870  comision compra        NaN  \n2       0.534351           compra  1310000.0  \n3      -0.011440  comision retiro        NaN  \n4      -0.500000           retiro        NaN  ",
      "text/html": "<div>\n<style scoped>\n    .dataframe tbody tr th:only-of-type {\n        vertical-align: middle;\n    }\n\n    .dataframe tbody tr th {\n        vertical-align: top;\n    }\n\n    .dataframe thead th {\n        text-align: right;\n    }\n</style>\n<table border=\"1\" class=\"dataframe\">\n  <thead>\n    <tr style=\"text-align: right;\">\n      <th></th>\n      <th>operacion</th>\n      <th>fecha</th>\n      <th>moneda</th>\n      <th>monto</th>\n      <th>detalle</th>\n      <th>precio</th>\n    </tr>\n  </thead>\n  <tbody>\n    <tr>\n      <th>0</th>\n      <td>09a65493-a7a4-4a02-92a2-9ac434036653</td>\n      <td>2021-03-11 14:53:58 UTC</td>\n      <td>CLP</td>\n      <td>-700000.000000</td>\n      <td>compra</td>\n      <td>1310000.0</td>\n    </tr>\n    <tr>\n      <th>1</th>\n      <td>09a65493-a7a4-4a02-92a2-9ac434036653</td>\n      <td>2021-03-11 14:53:58 UTC</td>\n      <td>ETH</td>\n      <td>-0.001870</td>\n      <td>comision compra</td>\n      <td>NaN</td>\n    </tr>\n    <tr>\n      <th>2</th>\n      <td>09a65493-a7a4-4a02-92a2-9ac434036653</td>\n      <td>2021-03-11 14:53:58 UTC</td>\n      <td>ETH</td>\n      <td>0.534351</td>\n      <td>compra</td>\n      <td>1310000.0</td>\n    </tr>\n    <tr>\n      <th>3</th>\n      <td>105ca170-733f-4a39-b578-e1310b1c41a2</td>\n      <td>2021-03-11 14:43:15 UTC</td>\n      <td>ETH</td>\n      <td>-0.011440</td>\n      <td>comision retiro</td>\n      <td>NaN</td>\n    </tr>\n    <tr>\n      <th>4</th>\n      <td>105ca170-733f-4a39-b578-e1310b1c41a2</td>\n      <td>2021-03-11 14:43:15 UTC</td>\n      <td>ETH</td>\n      <td>-0.500000</td>\n      <td>retiro</td>\n      <td>NaN</td>\n    </tr>\n  </tbody>\n</table>\n</div>"
     },
     "execution_count": 10,
     "metadata": {},
     "output_type": "execute_result"
    }
   ],
   "source": [
    "# Create a buda-lite csv file\n",
    "buda_lite = buda.copy()\n",
    "buda_lite.drop(['id', 'balance', 'mercado'], inplace=True, axis=1)\n",
    "buda_lite.head()"
   ],
   "metadata": {
    "collapsed": false,
    "pycharm": {
     "name": "#%%\n"
    }
   }
  },
  {
   "cell_type": "markdown",
   "source": [
    "# Simplify Buda file\n",
    "The Buda file uses three lines to generate a transaction, that's wasteful and confusing,\n",
    "I will adapt to use delta file.\n",
    "\n",
    "The Delta .csv file has the following structure:\n",
    "\n",
    "| Date                       | Type     | Exchange | Base amount | Base currency | Quote amount | Quote currency | Fee  | Fee currency | Costs/Proceeds | Costs/Proceeds currency | Sync Holdings | Sent/Received from | Sent to | Notes                                              |\n",
    "|----------------------------|----------|----------|-------------|---------------|--------------|----------------|------|--------------|----------------|-------------------------|---------------|--------------------|---------|----------------------------------------------------|\n",
    "| 2018-01-01 20:40:00 +01:00 | DEPOSIT  | Coinbase | 10000.00    | EUR           | Nan          | Nan            | Nan  | Nan          | Nan            | Nan                     | 0             | Nan                | Nan     | Example of fiat deposit.                           |\n",
    "| 2018-01-08 17:58:00 +01:00 | BUY      | Coinbase | 2.00        | BTC           | 10000.00     | EUR            | 0.10 | BTC          | Nan            | Nan                     | 1             | Nan                | Nan     | 1.9 BTC will be added. 10000 EUR will be deducted. |\n",
    "| 2018-01-10 18:00:00 +01:00 | TRANSFER | Nan      | 1.90        | BTC           | Nan          | Nan            | 0.01 | BTC          | Nan            | Nan                     | 0             | Coinbase           | Binance | Example of TRANSFER. Only 0.01 will be deducted.   |\n",
    "| 2018-01-25 15:05:00 +01:00 | BUY      | Binance  | 20.00       | ETH           | 1.00         | BTC            | 0.02 | BTC          | Nan            | Nan                     | 1             | Nan                | Nan     | 20 ETH will be added and 1.02 BTC deducted.        |\n",
    "| 2018-02-28 23:59:00 +01:00 | SELL     | Binance  | 10.00       | ETH           | 1.05         | BTC            | 0.50 | ETH          | Nan            | Nan                     | 1             | Nan                | Nan     | 10.5 ETH will be deducted and 1.05 BTC added.      |\n",
    "| 2018-03-28 22:22:00 +02:00 | WITHDRAW | Nan      | 8.50        | ETH           | Nan          | Nan            | Nan  | Nan          | Nan            | Nan                     | Nan           | Binance            | OTHER   | Example of WITHDRAW. 8.5 ETH will be deducted.     |\n"
   ],
   "metadata": {
    "collapsed": false,
    "pycharm": {
     "name": "#%% md\n"
    }
   }
  },
  {
   "cell_type": "code",
   "execution_count": 11,
   "outputs": [
    {
     "data": {
      "text/plain": "                       Date      Type Exchange   Base amount Base currency  \\\n0   2021-03-11 14:53:58 UTC       BUY     Buda  5.343511e-01           ETH   \n1   2021-03-11 14:43:15 UTC  TRANSFER     None  5.000000e-01           ETH   \n2   2021-03-11 14:28:52 UTC   DEPOSIT     Buda  7.000000e+05           CLP   \n3   2021-03-11 13:56:12 UTC  TRANSFER     None  5.300000e-01           ETH   \n4   2021-03-11 13:23:41 UTC       BUY     Buda  5.323194e-01           ETH   \n5   2021-03-11 12:58:36 UTC   DEPOSIT     Buda  7.000000e+05           CLP   \n6   2021-02-28 05:26:29 UTC       BUY     Buda  6.378940e-02           ETH   \n7   2021-02-28 05:14:15 UTC       BUY     Buda  9.143550e-03           BTC   \n8   2021-02-28 05:05:54 UTC       BUY     Buda  1.340345e-01           ETH   \n9   2021-02-28 04:58:57 UTC   DEPOSIT     Buda  5.000000e+05           CLP   \n10  2021-02-27 16:41:24 UTC       BUY     Buda  8.469210e-03           BTC   \n11  2021-02-27 16:14:49 UTC       BUY     Buda  2.365400e-04           BTC   \n12  2021-02-27 14:17:13 UTC       BUY     Buda  3.660000e-07           ETH   \n13  2021-02-27 14:10:07 UTC       BUY     Buda  3.663000e-01           ETH   \n14  2021-02-27 13:56:42 UTC   DEPOSIT     Buda  7.500000e+05           CLP   \n15  2021-02-24 22:33:37 UTC  TRANSFER     None  2.289000e-02           BTC   \n16  2021-02-24 22:04:27 UTC       BUY     Buda  2.298851e-02           BTC   \n17  2021-02-24 17:49:39 UTC       BUY     Buda  4.491525e-03           ETH   \n18  2021-02-24 17:49:28 UTC       BUY     Buda  1.650000e-01           ETH   \n19  2021-02-24 13:09:24 UTC   DEPOSIT     Buda  1.000000e+06           CLP   \n20  2021-02-23 12:49:09 UTC       BUY     Buda  1.121076e-01           ETH   \n21  2021-02-23 02:24:27 UTC       BUY     Buda  1.199041e-01           ETH   \n22  2021-02-05 20:24:27 UTC       BUY     Buda  3.650000e-03           BTC   \n23  2021-02-05 20:24:12 UTC       BUY     Buda  4.051000e-05           BTC   \n24  2021-02-01 18:23:02 UTC   DEPOSIT     Buda  5.000000e+05           CLP   \n25  2021-01-12 22:45:44 UTC  TRANSFER     None  1.445313e-01           ETH   \n26  2021-01-12 22:39:05 UTC       BUY     Buda  8.943000e-06           ETH   \n27  2021-01-12 22:38:49 UTC       BUY     Buda  1.492448e-01           ETH   \n28  2021-01-12 22:24:13 UTC   DEPOSIT     Buda  1.200000e+05           CLP   \n29  2021-01-11 12:07:48 UTC  TRANSFER     None  4.474195e-02           ETH   \n\n    Quote amount Quote currency           Fee Fee currency Costs/Proceeds  \\\n0      700000.00            CLP  1.870229e-03          ETH           None   \n1            NaN           None  1.144000e-02          ETH           None   \n2            NaN           None           NaN         None           None   \n3            NaN           None  1.000000e-02          ETH           None   \n4      700000.00            CLP  1.863117e-03          ETH           None   \n5            NaN           None           NaN         None           None   \n6       64491.08            CLP  2.232620e-04          ETH           None   \n7      299999.88            CLP  3.200000e-05          BTC           None   \n8      135508.92            CLP  9.382410e-04          ETH           None   \n9            NaN           None           NaN         None           None   \n10     291848.98            CLP  2.964000e-05          BTC           None   \n11       8151.16            CLP  8.200000e-07          BTC           None   \n12          0.40            CLP  1.000000e-09          ETH           None   \n13     399999.60            CLP  1.465200e-03          ETH           None   \n14           NaN           None           NaN         None           None   \n15           NaN           None  2.500000e-04          BTC           None   \n16     800000.15            CLP  9.195000e-05          BTC           None   \n17       5300.00            CLP  1.796600e-05          ETH           None   \n18     194700.00            CLP  6.600000e-04          ETH           None   \n19           NaN           None           NaN         None           None   \n20     125000.00            CLP  4.484300e-04          ETH           None   \n21     150000.00            CLP  4.796160e-04          ETH           None   \n22     101105.00            CLP  1.460000e-05          BTC           None   \n23       1122.13            CLP  1.600000e-07          BTC           None   \n24           NaN           None           NaN         None           None   \n25           NaN           None  6.000000e-03          ETH           None   \n26          7.19            CLP  3.100000e-08          ETH           None   \n27     119992.81            CLP  5.223560e-04          ETH           None   \n28           NaN           None           NaN         None           None   \n29           NaN           None  1.032000e-02          ETH           None   \n\n   Costs/Proceeds currency  Sync holdings Sent/Received from    Sent to  \\\n0                     None              1               None       None   \n1                     None              0               Buda  MY_WALLET   \n2                     None              0              OTHER       Buda   \n3                     None              0               Buda  MY_WALLET   \n4                     None              1               None       None   \n5                     None              0              OTHER       Buda   \n6                     None              1               None       None   \n7                     None              1               None       None   \n8                     None              1               None       None   \n9                     None              0              OTHER       Buda   \n10                    None              1               None       None   \n11                    None              1               None       None   \n12                    None              1               None       None   \n13                    None              1               None       None   \n14                    None              0              OTHER       Buda   \n15                    None              0               Buda  MY_WALLET   \n16                    None              1               None       None   \n17                    None              1               None       None   \n18                    None              1               None       None   \n19                    None              0              OTHER       Buda   \n20                    None              1               None       None   \n21                    None              1               None       None   \n22                    None              1               None       None   \n23                    None              1               None       None   \n24                    None              0              OTHER       Buda   \n25                    None              0               Buda  MY_WALLET   \n26                    None              1               None       None   \n27                    None              1               None       None   \n28                    None              0              OTHER       Buda   \n29                    None              0               Buda  MY_WALLET   \n\n                                   Notes  \n0   09a65493-a7a4-4a02-92a2-9ac434036653  \n1   105ca170-733f-4a39-b578-e1310b1c41a2  \n2   47574cff-74f2-493b-83b7-fd46890cbcfc  \n3   579833f9-e43f-42b5-ac85-f24fd1c44813  \n4   2d1e9e70-aa8f-48a6-8b70-055ea3f574e5  \n5   e1ce6ccd-bbf0-47ac-bc3b-8ebb7f3e78f5  \n6   091c4ff3-97e9-4fa0-896f-e4797c6849d7  \n7   3c36f013-dd9b-44b4-a645-0c54ea9827ca  \n8   f06565db-5841-4e42-9502-ccd2f7046b7b  \n9   e47b5b03-ccc4-4c36-8510-4b3378ca98f0  \n10  5fb92f4a-dd91-408b-9b55-be2759c17339  \n11  0f337d93-e8af-4fc7-86e8-564665b346e8  \n12  85634adc-8a02-42c0-a495-74fc115bb7cc  \n13  92b7a391-3e48-4204-a65e-756a491971a4  \n14  bbcedc31-eb7b-4c67-ab61-8d228e17c225  \n15  8362c8b5-c10e-4286-ba79-1940c71bccdb  \n16  b4de06fe-5b5c-4f38-ba24-3c22b4b62fe5  \n17  69c11064-6c73-482a-b5fe-54b594c735cb  \n18  dec9a5da-f20d-4d88-aa84-b51953c6ef5e  \n19  efd276e2-83c2-4fe2-921a-f01506526997  \n20  ff611958-7507-49d8-b8b1-44feaabc0d59  \n21  32221c0b-bbfa-4aff-8f4e-f6298c0ac283  \n22  59931c5a-f666-45f3-9624-862fd144e6a9  \n23  6367dcb3-418b-46d8-9272-f09038566585  \n24  0e1735a9-4a0f-477b-bd2d-cd03ce5b4e09  \n25  d5632b43-aa0f-4837-9b27-d7cef903a0bf  \n26  a0e8dc7c-9cde-4461-8b5c-9ab4265a89ae  \n27  b789e46d-48bb-4a28-9618-62d208d955d8  \n28  f1d849cf-560f-49b1-9661-907dec9769ee  \n29  41ae8ec2-5840-4f82-b11f-4c25ddb5b1ce  ",
      "text/html": "<div>\n<style scoped>\n    .dataframe tbody tr th:only-of-type {\n        vertical-align: middle;\n    }\n\n    .dataframe tbody tr th {\n        vertical-align: top;\n    }\n\n    .dataframe thead th {\n        text-align: right;\n    }\n</style>\n<table border=\"1\" class=\"dataframe\">\n  <thead>\n    <tr style=\"text-align: right;\">\n      <th></th>\n      <th>Date</th>\n      <th>Type</th>\n      <th>Exchange</th>\n      <th>Base amount</th>\n      <th>Base currency</th>\n      <th>Quote amount</th>\n      <th>Quote currency</th>\n      <th>Fee</th>\n      <th>Fee currency</th>\n      <th>Costs/Proceeds</th>\n      <th>Costs/Proceeds currency</th>\n      <th>Sync holdings</th>\n      <th>Sent/Received from</th>\n      <th>Sent to</th>\n      <th>Notes</th>\n    </tr>\n  </thead>\n  <tbody>\n    <tr>\n      <th>0</th>\n      <td>2021-03-11 14:53:58 UTC</td>\n      <td>BUY</td>\n      <td>Buda</td>\n      <td>5.343511e-01</td>\n      <td>ETH</td>\n      <td>700000.00</td>\n      <td>CLP</td>\n      <td>1.870229e-03</td>\n      <td>ETH</td>\n      <td>None</td>\n      <td>None</td>\n      <td>1</td>\n      <td>None</td>\n      <td>None</td>\n      <td>09a65493-a7a4-4a02-92a2-9ac434036653</td>\n    </tr>\n    <tr>\n      <th>1</th>\n      <td>2021-03-11 14:43:15 UTC</td>\n      <td>TRANSFER</td>\n      <td>None</td>\n      <td>5.000000e-01</td>\n      <td>ETH</td>\n      <td>NaN</td>\n      <td>None</td>\n      <td>1.144000e-02</td>\n      <td>ETH</td>\n      <td>None</td>\n      <td>None</td>\n      <td>0</td>\n      <td>Buda</td>\n      <td>MY_WALLET</td>\n      <td>105ca170-733f-4a39-b578-e1310b1c41a2</td>\n    </tr>\n    <tr>\n      <th>2</th>\n      <td>2021-03-11 14:28:52 UTC</td>\n      <td>DEPOSIT</td>\n      <td>Buda</td>\n      <td>7.000000e+05</td>\n      <td>CLP</td>\n      <td>NaN</td>\n      <td>None</td>\n      <td>NaN</td>\n      <td>None</td>\n      <td>None</td>\n      <td>None</td>\n      <td>0</td>\n      <td>OTHER</td>\n      <td>Buda</td>\n      <td>47574cff-74f2-493b-83b7-fd46890cbcfc</td>\n    </tr>\n    <tr>\n      <th>3</th>\n      <td>2021-03-11 13:56:12 UTC</td>\n      <td>TRANSFER</td>\n      <td>None</td>\n      <td>5.300000e-01</td>\n      <td>ETH</td>\n      <td>NaN</td>\n      <td>None</td>\n      <td>1.000000e-02</td>\n      <td>ETH</td>\n      <td>None</td>\n      <td>None</td>\n      <td>0</td>\n      <td>Buda</td>\n      <td>MY_WALLET</td>\n      <td>579833f9-e43f-42b5-ac85-f24fd1c44813</td>\n    </tr>\n    <tr>\n      <th>4</th>\n      <td>2021-03-11 13:23:41 UTC</td>\n      <td>BUY</td>\n      <td>Buda</td>\n      <td>5.323194e-01</td>\n      <td>ETH</td>\n      <td>700000.00</td>\n      <td>CLP</td>\n      <td>1.863117e-03</td>\n      <td>ETH</td>\n      <td>None</td>\n      <td>None</td>\n      <td>1</td>\n      <td>None</td>\n      <td>None</td>\n      <td>2d1e9e70-aa8f-48a6-8b70-055ea3f574e5</td>\n    </tr>\n    <tr>\n      <th>5</th>\n      <td>2021-03-11 12:58:36 UTC</td>\n      <td>DEPOSIT</td>\n      <td>Buda</td>\n      <td>7.000000e+05</td>\n      <td>CLP</td>\n      <td>NaN</td>\n      <td>None</td>\n      <td>NaN</td>\n      <td>None</td>\n      <td>None</td>\n      <td>None</td>\n      <td>0</td>\n      <td>OTHER</td>\n      <td>Buda</td>\n      <td>e1ce6ccd-bbf0-47ac-bc3b-8ebb7f3e78f5</td>\n    </tr>\n    <tr>\n      <th>6</th>\n      <td>2021-02-28 05:26:29 UTC</td>\n      <td>BUY</td>\n      <td>Buda</td>\n      <td>6.378940e-02</td>\n      <td>ETH</td>\n      <td>64491.08</td>\n      <td>CLP</td>\n      <td>2.232620e-04</td>\n      <td>ETH</td>\n      <td>None</td>\n      <td>None</td>\n      <td>1</td>\n      <td>None</td>\n      <td>None</td>\n      <td>091c4ff3-97e9-4fa0-896f-e4797c6849d7</td>\n    </tr>\n    <tr>\n      <th>7</th>\n      <td>2021-02-28 05:14:15 UTC</td>\n      <td>BUY</td>\n      <td>Buda</td>\n      <td>9.143550e-03</td>\n      <td>BTC</td>\n      <td>299999.88</td>\n      <td>CLP</td>\n      <td>3.200000e-05</td>\n      <td>BTC</td>\n      <td>None</td>\n      <td>None</td>\n      <td>1</td>\n      <td>None</td>\n      <td>None</td>\n      <td>3c36f013-dd9b-44b4-a645-0c54ea9827ca</td>\n    </tr>\n    <tr>\n      <th>8</th>\n      <td>2021-02-28 05:05:54 UTC</td>\n      <td>BUY</td>\n      <td>Buda</td>\n      <td>1.340345e-01</td>\n      <td>ETH</td>\n      <td>135508.92</td>\n      <td>CLP</td>\n      <td>9.382410e-04</td>\n      <td>ETH</td>\n      <td>None</td>\n      <td>None</td>\n      <td>1</td>\n      <td>None</td>\n      <td>None</td>\n      <td>f06565db-5841-4e42-9502-ccd2f7046b7b</td>\n    </tr>\n    <tr>\n      <th>9</th>\n      <td>2021-02-28 04:58:57 UTC</td>\n      <td>DEPOSIT</td>\n      <td>Buda</td>\n      <td>5.000000e+05</td>\n      <td>CLP</td>\n      <td>NaN</td>\n      <td>None</td>\n      <td>NaN</td>\n      <td>None</td>\n      <td>None</td>\n      <td>None</td>\n      <td>0</td>\n      <td>OTHER</td>\n      <td>Buda</td>\n      <td>e47b5b03-ccc4-4c36-8510-4b3378ca98f0</td>\n    </tr>\n    <tr>\n      <th>10</th>\n      <td>2021-02-27 16:41:24 UTC</td>\n      <td>BUY</td>\n      <td>Buda</td>\n      <td>8.469210e-03</td>\n      <td>BTC</td>\n      <td>291848.98</td>\n      <td>CLP</td>\n      <td>2.964000e-05</td>\n      <td>BTC</td>\n      <td>None</td>\n      <td>None</td>\n      <td>1</td>\n      <td>None</td>\n      <td>None</td>\n      <td>5fb92f4a-dd91-408b-9b55-be2759c17339</td>\n    </tr>\n    <tr>\n      <th>11</th>\n      <td>2021-02-27 16:14:49 UTC</td>\n      <td>BUY</td>\n      <td>Buda</td>\n      <td>2.365400e-04</td>\n      <td>BTC</td>\n      <td>8151.16</td>\n      <td>CLP</td>\n      <td>8.200000e-07</td>\n      <td>BTC</td>\n      <td>None</td>\n      <td>None</td>\n      <td>1</td>\n      <td>None</td>\n      <td>None</td>\n      <td>0f337d93-e8af-4fc7-86e8-564665b346e8</td>\n    </tr>\n    <tr>\n      <th>12</th>\n      <td>2021-02-27 14:17:13 UTC</td>\n      <td>BUY</td>\n      <td>Buda</td>\n      <td>3.660000e-07</td>\n      <td>ETH</td>\n      <td>0.40</td>\n      <td>CLP</td>\n      <td>1.000000e-09</td>\n      <td>ETH</td>\n      <td>None</td>\n      <td>None</td>\n      <td>1</td>\n      <td>None</td>\n      <td>None</td>\n      <td>85634adc-8a02-42c0-a495-74fc115bb7cc</td>\n    </tr>\n    <tr>\n      <th>13</th>\n      <td>2021-02-27 14:10:07 UTC</td>\n      <td>BUY</td>\n      <td>Buda</td>\n      <td>3.663000e-01</td>\n      <td>ETH</td>\n      <td>399999.60</td>\n      <td>CLP</td>\n      <td>1.465200e-03</td>\n      <td>ETH</td>\n      <td>None</td>\n      <td>None</td>\n      <td>1</td>\n      <td>None</td>\n      <td>None</td>\n      <td>92b7a391-3e48-4204-a65e-756a491971a4</td>\n    </tr>\n    <tr>\n      <th>14</th>\n      <td>2021-02-27 13:56:42 UTC</td>\n      <td>DEPOSIT</td>\n      <td>Buda</td>\n      <td>7.500000e+05</td>\n      <td>CLP</td>\n      <td>NaN</td>\n      <td>None</td>\n      <td>NaN</td>\n      <td>None</td>\n      <td>None</td>\n      <td>None</td>\n      <td>0</td>\n      <td>OTHER</td>\n      <td>Buda</td>\n      <td>bbcedc31-eb7b-4c67-ab61-8d228e17c225</td>\n    </tr>\n    <tr>\n      <th>15</th>\n      <td>2021-02-24 22:33:37 UTC</td>\n      <td>TRANSFER</td>\n      <td>None</td>\n      <td>2.289000e-02</td>\n      <td>BTC</td>\n      <td>NaN</td>\n      <td>None</td>\n      <td>2.500000e-04</td>\n      <td>BTC</td>\n      <td>None</td>\n      <td>None</td>\n      <td>0</td>\n      <td>Buda</td>\n      <td>MY_WALLET</td>\n      <td>8362c8b5-c10e-4286-ba79-1940c71bccdb</td>\n    </tr>\n    <tr>\n      <th>16</th>\n      <td>2021-02-24 22:04:27 UTC</td>\n      <td>BUY</td>\n      <td>Buda</td>\n      <td>2.298851e-02</td>\n      <td>BTC</td>\n      <td>800000.15</td>\n      <td>CLP</td>\n      <td>9.195000e-05</td>\n      <td>BTC</td>\n      <td>None</td>\n      <td>None</td>\n      <td>1</td>\n      <td>None</td>\n      <td>None</td>\n      <td>b4de06fe-5b5c-4f38-ba24-3c22b4b62fe5</td>\n    </tr>\n    <tr>\n      <th>17</th>\n      <td>2021-02-24 17:49:39 UTC</td>\n      <td>BUY</td>\n      <td>Buda</td>\n      <td>4.491525e-03</td>\n      <td>ETH</td>\n      <td>5300.00</td>\n      <td>CLP</td>\n      <td>1.796600e-05</td>\n      <td>ETH</td>\n      <td>None</td>\n      <td>None</td>\n      <td>1</td>\n      <td>None</td>\n      <td>None</td>\n      <td>69c11064-6c73-482a-b5fe-54b594c735cb</td>\n    </tr>\n    <tr>\n      <th>18</th>\n      <td>2021-02-24 17:49:28 UTC</td>\n      <td>BUY</td>\n      <td>Buda</td>\n      <td>1.650000e-01</td>\n      <td>ETH</td>\n      <td>194700.00</td>\n      <td>CLP</td>\n      <td>6.600000e-04</td>\n      <td>ETH</td>\n      <td>None</td>\n      <td>None</td>\n      <td>1</td>\n      <td>None</td>\n      <td>None</td>\n      <td>dec9a5da-f20d-4d88-aa84-b51953c6ef5e</td>\n    </tr>\n    <tr>\n      <th>19</th>\n      <td>2021-02-24 13:09:24 UTC</td>\n      <td>DEPOSIT</td>\n      <td>Buda</td>\n      <td>1.000000e+06</td>\n      <td>CLP</td>\n      <td>NaN</td>\n      <td>None</td>\n      <td>NaN</td>\n      <td>None</td>\n      <td>None</td>\n      <td>None</td>\n      <td>0</td>\n      <td>OTHER</td>\n      <td>Buda</td>\n      <td>efd276e2-83c2-4fe2-921a-f01506526997</td>\n    </tr>\n    <tr>\n      <th>20</th>\n      <td>2021-02-23 12:49:09 UTC</td>\n      <td>BUY</td>\n      <td>Buda</td>\n      <td>1.121076e-01</td>\n      <td>ETH</td>\n      <td>125000.00</td>\n      <td>CLP</td>\n      <td>4.484300e-04</td>\n      <td>ETH</td>\n      <td>None</td>\n      <td>None</td>\n      <td>1</td>\n      <td>None</td>\n      <td>None</td>\n      <td>ff611958-7507-49d8-b8b1-44feaabc0d59</td>\n    </tr>\n    <tr>\n      <th>21</th>\n      <td>2021-02-23 02:24:27 UTC</td>\n      <td>BUY</td>\n      <td>Buda</td>\n      <td>1.199041e-01</td>\n      <td>ETH</td>\n      <td>150000.00</td>\n      <td>CLP</td>\n      <td>4.796160e-04</td>\n      <td>ETH</td>\n      <td>None</td>\n      <td>None</td>\n      <td>1</td>\n      <td>None</td>\n      <td>None</td>\n      <td>32221c0b-bbfa-4aff-8f4e-f6298c0ac283</td>\n    </tr>\n    <tr>\n      <th>22</th>\n      <td>2021-02-05 20:24:27 UTC</td>\n      <td>BUY</td>\n      <td>Buda</td>\n      <td>3.650000e-03</td>\n      <td>BTC</td>\n      <td>101105.00</td>\n      <td>CLP</td>\n      <td>1.460000e-05</td>\n      <td>BTC</td>\n      <td>None</td>\n      <td>None</td>\n      <td>1</td>\n      <td>None</td>\n      <td>None</td>\n      <td>59931c5a-f666-45f3-9624-862fd144e6a9</td>\n    </tr>\n    <tr>\n      <th>23</th>\n      <td>2021-02-05 20:24:12 UTC</td>\n      <td>BUY</td>\n      <td>Buda</td>\n      <td>4.051000e-05</td>\n      <td>BTC</td>\n      <td>1122.13</td>\n      <td>CLP</td>\n      <td>1.600000e-07</td>\n      <td>BTC</td>\n      <td>None</td>\n      <td>None</td>\n      <td>1</td>\n      <td>None</td>\n      <td>None</td>\n      <td>6367dcb3-418b-46d8-9272-f09038566585</td>\n    </tr>\n    <tr>\n      <th>24</th>\n      <td>2021-02-01 18:23:02 UTC</td>\n      <td>DEPOSIT</td>\n      <td>Buda</td>\n      <td>5.000000e+05</td>\n      <td>CLP</td>\n      <td>NaN</td>\n      <td>None</td>\n      <td>NaN</td>\n      <td>None</td>\n      <td>None</td>\n      <td>None</td>\n      <td>0</td>\n      <td>OTHER</td>\n      <td>Buda</td>\n      <td>0e1735a9-4a0f-477b-bd2d-cd03ce5b4e09</td>\n    </tr>\n    <tr>\n      <th>25</th>\n      <td>2021-01-12 22:45:44 UTC</td>\n      <td>TRANSFER</td>\n      <td>None</td>\n      <td>1.445313e-01</td>\n      <td>ETH</td>\n      <td>NaN</td>\n      <td>None</td>\n      <td>6.000000e-03</td>\n      <td>ETH</td>\n      <td>None</td>\n      <td>None</td>\n      <td>0</td>\n      <td>Buda</td>\n      <td>MY_WALLET</td>\n      <td>d5632b43-aa0f-4837-9b27-d7cef903a0bf</td>\n    </tr>\n    <tr>\n      <th>26</th>\n      <td>2021-01-12 22:39:05 UTC</td>\n      <td>BUY</td>\n      <td>Buda</td>\n      <td>8.943000e-06</td>\n      <td>ETH</td>\n      <td>7.19</td>\n      <td>CLP</td>\n      <td>3.100000e-08</td>\n      <td>ETH</td>\n      <td>None</td>\n      <td>None</td>\n      <td>1</td>\n      <td>None</td>\n      <td>None</td>\n      <td>a0e8dc7c-9cde-4461-8b5c-9ab4265a89ae</td>\n    </tr>\n    <tr>\n      <th>27</th>\n      <td>2021-01-12 22:38:49 UTC</td>\n      <td>BUY</td>\n      <td>Buda</td>\n      <td>1.492448e-01</td>\n      <td>ETH</td>\n      <td>119992.81</td>\n      <td>CLP</td>\n      <td>5.223560e-04</td>\n      <td>ETH</td>\n      <td>None</td>\n      <td>None</td>\n      <td>1</td>\n      <td>None</td>\n      <td>None</td>\n      <td>b789e46d-48bb-4a28-9618-62d208d955d8</td>\n    </tr>\n    <tr>\n      <th>28</th>\n      <td>2021-01-12 22:24:13 UTC</td>\n      <td>DEPOSIT</td>\n      <td>Buda</td>\n      <td>1.200000e+05</td>\n      <td>CLP</td>\n      <td>NaN</td>\n      <td>None</td>\n      <td>NaN</td>\n      <td>None</td>\n      <td>None</td>\n      <td>None</td>\n      <td>0</td>\n      <td>OTHER</td>\n      <td>Buda</td>\n      <td>f1d849cf-560f-49b1-9661-907dec9769ee</td>\n    </tr>\n    <tr>\n      <th>29</th>\n      <td>2021-01-11 12:07:48 UTC</td>\n      <td>TRANSFER</td>\n      <td>None</td>\n      <td>4.474195e-02</td>\n      <td>ETH</td>\n      <td>NaN</td>\n      <td>None</td>\n      <td>1.032000e-02</td>\n      <td>ETH</td>\n      <td>None</td>\n      <td>None</td>\n      <td>0</td>\n      <td>Buda</td>\n      <td>MY_WALLET</td>\n      <td>41ae8ec2-5840-4f82-b11f-4c25ddb5b1ce</td>\n    </tr>\n  </tbody>\n</table>\n</div>"
     },
     "execution_count": 11,
     "metadata": {},
     "output_type": "execute_result"
    }
   ],
   "source": [
    "index = 0\n",
    "container = []\n",
    "while index < len(buda_lite):\n",
    "\n",
    "    if buda_lite['detalle'].iloc[index] == 'compra':  # we enter the BUY phase\n",
    "\n",
    "        if buda_lite['detalle'].iloc[index + 1] == 'comision compra':  # there's a fee\n",
    "            has_fee = 1\n",
    "        else:\n",
    "            has_fee = 0\n",
    "\n",
    "        if buda_lite['monto'].iloc[index] >= 0:\n",
    "            pos_index = index\n",
    "            neg_index = index + 1 + has_fee\n",
    "        else:\n",
    "            pos_index = index + 1 + has_fee\n",
    "            neg_index = index\n",
    "\n",
    "        # fill values\n",
    "        date = buda_lite['fecha'].iloc[index]\n",
    "        typ = 'BUY'\n",
    "        exchange = 'Buda'\n",
    "        base_amount = buda_lite['monto'].iloc[pos_index]\n",
    "        base_currency = buda_lite['moneda'].iloc[pos_index]\n",
    "        quote_amount = abs(buda_lite['monto'].iloc[neg_index])\n",
    "        quote_currency = buda_lite['moneda'].iloc[neg_index]\n",
    "\n",
    "        if has_fee:\n",
    "            fee = abs(buda_lite['monto'].iloc[index + 1])\n",
    "            fee_currency = buda_lite['moneda'].iloc[index + 1]\n",
    "        else:\n",
    "            fee = None\n",
    "            fee_currency = None\n",
    "\n",
    "        cost_proceeds = None\n",
    "        cost_proceeds_currency = None\n",
    "        sync = 1\n",
    "        sent_received_from = None\n",
    "        sent_to = None\n",
    "        notes = buda_lite['operacion'].iloc[index]\n",
    "        # and advance\n",
    "        index = index + 2 + has_fee\n",
    "\n",
    "    elif buda_lite['detalle'].iloc[index] == 'abono':  # enter DEPOSIT phase\n",
    "        date = buda_lite['fecha'].iloc[index]\n",
    "        typ = 'DEPOSIT'\n",
    "        exchange = 'Buda'\n",
    "        base_amount = buda_lite['monto'].iloc[index]\n",
    "        base_currency = buda_lite['moneda'].iloc[index]\n",
    "        quote_amount = None\n",
    "        quote_currency = None\n",
    "        fee = None\n",
    "        fee_currency = None\n",
    "        cost_proceeds = None\n",
    "        cost_proceeds_currency = None\n",
    "        sync = 0\n",
    "        sent_received_from = 'OTHER'\n",
    "        sent_to = 'Buda'\n",
    "        notes = buda_lite['operacion'].iloc[index]\n",
    "        # advance\n",
    "        index = index + 1\n",
    "\n",
    "    elif buda_lite['detalle'].iloc[index] == 'comision venta':  # enter SELL phase\n",
    "        pos_index = None\n",
    "        if buda_lite['monto'].iloc[index + 1] >= 0:\n",
    "            pos_index = index + 1\n",
    "            neg_index = index + 2\n",
    "        else:\n",
    "            pos_index = index + 2\n",
    "            neg_index = index + 1\n",
    "\n",
    "        # fill values\n",
    "        date = buda_lite['fecha'].iloc[index]\n",
    "        typ = 'SELL'\n",
    "        exchange = 'Buda'\n",
    "        base_amount = abs(buda_lite['monto'].iloc[neg_index])\n",
    "        base_currency = buda_lite['moneda'].iloc[neg_index]\n",
    "        quote_amount = buda_lite['monto'].iloc[pos_index]\n",
    "        quote_currency = buda_lite['moneda'].iloc[pos_index]\n",
    "        fee = abs(buda_lite['monto'].iloc[index])\n",
    "        fee_currency = buda_lite['moneda'].iloc[index]\n",
    "        cost_proceeds = None\n",
    "        cost_proceeds_currency = None\n",
    "        sync = 1\n",
    "        sent_received_from = None\n",
    "        sent_to = None\n",
    "        notes = buda_lite['operacion'].iloc[index]\n",
    "        # and advance\n",
    "        index = index + 3\n",
    "\n",
    "    # TODO: In case of a transfer or withdraw phase, for now we use to MY_WALLET as placeholder\n",
    "    # to fill where that money went. Having other files will let us know where that money went.\n",
    "    elif buda_lite['detalle'].iloc[index] == 'comision retiro':  # enter TRANSFER phase\n",
    "        date = buda_lite['fecha'].iloc[index]\n",
    "        typ = 'TRANSFER'\n",
    "        exchange = None\n",
    "        base_amount = abs(buda_lite['monto'].iloc[index + 1])\n",
    "        base_currency = buda_lite['moneda'].iloc[index + 1]\n",
    "        quote_amount = None\n",
    "        quote_currency = None\n",
    "        fee = abs(buda_lite['monto'].iloc[index])\n",
    "        fee_currency = buda_lite['moneda'].iloc[index]\n",
    "        cost_proceeds = None\n",
    "        cost_proceeds_currency = None\n",
    "        sync = 0\n",
    "        sent_received_from = 'Buda'\n",
    "        sent_to = 'MY_WALLET'  # we need to update this value with other info: etherscan and binance\n",
    "        notes = buda_lite['operacion'].iloc[index]\n",
    "        # advance\n",
    "        index = index + 2\n",
    "\n",
    "    elif buda_lite['detalle'].iloc[index] == 'retiro':  # enter WITHDRAW phase\n",
    "        date = buda_lite['fecha'].iloc[index]\n",
    "        typ = 'WITHDRAW'\n",
    "        exchange = 'Buda'\n",
    "        base_amount = abs(buda_lite['monto'].iloc[index])\n",
    "        base_currency = buda_lite['moneda'].iloc[index]\n",
    "        quote_amount = None\n",
    "        quote_currency = None\n",
    "        fee = None\n",
    "        fee_currency = None\n",
    "        cost_proceeds = None\n",
    "        cost_proceeds_currency = None\n",
    "        sync = 1\n",
    "        sent_received_from = 'Buda'\n",
    "        sent_to = 'OTHER'\n",
    "        notes = buda_lite['operacion'].iloc[index]\n",
    "        # advance\n",
    "        index = index + 1\n",
    "\n",
    "    else:  # just keep advancing\n",
    "        index = index + 1\n",
    "        continue\n",
    "\n",
    "    # append values, each statement must fill those values\n",
    "    container.append([date, typ, exchange, base_amount, base_currency, quote_amount,\n",
    "                      quote_currency, fee, fee_currency, cost_proceeds, cost_proceeds_currency,\n",
    "                      sync, sent_received_from, sent_to, notes])\n",
    "\n",
    "\n",
    "df = pd.DataFrame(container, columns=['Date', 'Type', 'Exchange', 'Base amount', 'Base currency',\n",
    "                                      'Quote amount', 'Quote currency', 'Fee', 'Fee currency',\n",
    "                                      'Costs/Proceeds', 'Costs/Proceeds currency', 'Sync holdings',\n",
    "                                      'Sent/Received from', 'Sent to', 'Notes'])\n",
    "df.head(30)"
   ],
   "metadata": {
    "collapsed": false,
    "pycharm": {
     "name": "#%%\n"
    }
   }
  },
  {
   "cell_type": "markdown",
   "source": [
    "## Exporting Dataframe to a Delta csv"
   ],
   "metadata": {
    "collapsed": false,
    "pycharm": {
     "name": "#%% md\n"
    }
   }
  },
  {
   "cell_type": "code",
   "execution_count": 12,
   "outputs": [
    {
     "name": "stdout",
     "output_type": "stream",
     "text": [
      "Saving file as buda_proc_buda.csv\n"
     ]
    }
   ],
   "source": [
    "name_out = f'{fname}_proc_buda.csv'\n",
    "print(f'Saving file as {name_out}')\n",
    "df.to_csv(name_out, index=False)"
   ],
   "metadata": {
    "collapsed": false,
    "pycharm": {
     "name": "#%%\n"
    }
   }
  },
  {
   "cell_type": "markdown",
   "source": [
    "## Adding Binance Trades\n",
    "Let's load them up!"
   ],
   "metadata": {
    "collapsed": false,
    "pycharm": {
     "name": "#%% md\n"
    }
   }
  },
  {
   "cell_type": "code",
   "execution_count": 13,
   "outputs": [
    {
     "data": {
      "text/plain": "             Date(UTC)      Pair  Side     Price           Executed  \\\n0  2021-03-31 15:15:41  RUNEUSDT  SELL   7.90000  79.7500000000RUNE   \n1  2021-03-18 10:39:45  LINKUSDT  SELL  30.01030  17.2400000000LINK   \n2  2021-03-16 12:35:51   GRTUSDT   BUY   1.67499  351.5000000000GRT   \n3  2021-03-12 10:29:41  LINKUSDT   BUY  28.77120  17.5200000000LINK   \n4  2021-03-11 21:16:40  LINKUSDT   BUY  29.78000  18.8300000000LINK   \n\n             Amount               Fee  \n0  630.02500000USDT  0.6300250000USDT  \n1  517.37757200USDT  0.5173775700USDT  \n2  588.75898500USDT   0.3515000000GRT  \n3  504.07142400USDT  0.0175200000LINK  \n4  560.75740000USDT  0.0188300000LINK  ",
      "text/html": "<div>\n<style scoped>\n    .dataframe tbody tr th:only-of-type {\n        vertical-align: middle;\n    }\n\n    .dataframe tbody tr th {\n        vertical-align: top;\n    }\n\n    .dataframe thead th {\n        text-align: right;\n    }\n</style>\n<table border=\"1\" class=\"dataframe\">\n  <thead>\n    <tr style=\"text-align: right;\">\n      <th></th>\n      <th>Date(UTC)</th>\n      <th>Pair</th>\n      <th>Side</th>\n      <th>Price</th>\n      <th>Executed</th>\n      <th>Amount</th>\n      <th>Fee</th>\n    </tr>\n  </thead>\n  <tbody>\n    <tr>\n      <th>0</th>\n      <td>2021-03-31 15:15:41</td>\n      <td>RUNEUSDT</td>\n      <td>SELL</td>\n      <td>7.90000</td>\n      <td>79.7500000000RUNE</td>\n      <td>630.02500000USDT</td>\n      <td>0.6300250000USDT</td>\n    </tr>\n    <tr>\n      <th>1</th>\n      <td>2021-03-18 10:39:45</td>\n      <td>LINKUSDT</td>\n      <td>SELL</td>\n      <td>30.01030</td>\n      <td>17.2400000000LINK</td>\n      <td>517.37757200USDT</td>\n      <td>0.5173775700USDT</td>\n    </tr>\n    <tr>\n      <th>2</th>\n      <td>2021-03-16 12:35:51</td>\n      <td>GRTUSDT</td>\n      <td>BUY</td>\n      <td>1.67499</td>\n      <td>351.5000000000GRT</td>\n      <td>588.75898500USDT</td>\n      <td>0.3515000000GRT</td>\n    </tr>\n    <tr>\n      <th>3</th>\n      <td>2021-03-12 10:29:41</td>\n      <td>LINKUSDT</td>\n      <td>BUY</td>\n      <td>28.77120</td>\n      <td>17.5200000000LINK</td>\n      <td>504.07142400USDT</td>\n      <td>0.0175200000LINK</td>\n    </tr>\n    <tr>\n      <th>4</th>\n      <td>2021-03-11 21:16:40</td>\n      <td>LINKUSDT</td>\n      <td>BUY</td>\n      <td>29.78000</td>\n      <td>18.8300000000LINK</td>\n      <td>560.75740000USDT</td>\n      <td>0.0188300000LINK</td>\n    </tr>\n  </tbody>\n</table>\n</div>"
     },
     "execution_count": 13,
     "metadata": {},
     "output_type": "execute_result"
    }
   ],
   "source": [
    "binance_in = 'binance_trades.csv'\n",
    "df_binance = pd.read_csv(binance_in)\n",
    "\n",
    "df_binance.head()"
   ],
   "metadata": {
    "collapsed": false,
    "pycharm": {
     "name": "#%%\n"
    }
   }
  },
  {
   "cell_type": "code",
   "execution_count": 14,
   "outputs": [
    {
     "name": "stdout",
     "output_type": "stream",
     "text": [
      "Saving file as buda_proc_binance.csv\n"
     ]
    }
   ],
   "source": [
    "# Define trade/groups: USDT, USDC, DAI, BTC, ETH as currency use to buy stuff\n",
    "# In this way we can separate the trade pairs into two\n",
    "# In case of BTC-USDT, USDT is taken as the base as it's first in priority in bases array\n",
    "bases = ['USDT', 'USDC', 'DAI', 'BTC', 'ETH']\n",
    "\n",
    "for index, pair in enumerate(df_binance['Pair']):\n",
    "\n",
    "    # Separate pair into base and coin\n",
    "    my_base = None\n",
    "    my_coin = None\n",
    "\n",
    "    for base in bases:\n",
    "        if base in pair:\n",
    "            my_base = base\n",
    "            my_coin = pair.replace(base, '')\n",
    "            break\n",
    "\n",
    "    # now we use base/coin strings to parse amounts taking out the string part and erasing commas\n",
    "    executed = float(df_binance['Executed'].iloc[index].replace(my_coin, '').replace(',', ''))\n",
    "    amount = float(df_binance['Amount'].iloc[index].replace(my_base, '').replace(',', ''))\n",
    "    fee = float(df_binance['Fee'].iloc[index].replace(my_coin, '').replace(my_base, '').replace(',', ''))\n",
    "\n",
    "    # fill values\n",
    "    date = df_binance['Date(UTC)'].iloc[index]\n",
    "    typ = df_binance['Side'].iloc[index]\n",
    "    exchange = 'Binance'\n",
    "    base_amount = executed\n",
    "    base_currency = my_coin\n",
    "    quote_amount = amount\n",
    "    quote_currency = my_base\n",
    "    if typ == 'BUY':\n",
    "        fee_currency = my_coin\n",
    "    elif typ == 'SELL':\n",
    "        fee_currency = my_base\n",
    "    else:\n",
    "        fee_currency = None\n",
    "    cost_proceeds = None\n",
    "    cost_proceeds_currency = None\n",
    "    sync = 1\n",
    "    sent_received_from = None\n",
    "    sent_to = None\n",
    "    notes = 'Binance transaction'\n",
    "\n",
    "    # append values\n",
    "    container.append([date, typ, exchange, base_amount, base_currency, quote_amount,\n",
    "                      quote_currency, fee, fee_currency, cost_proceeds, cost_proceeds_currency,\n",
    "                      sync, sent_received_from, sent_to, notes])\n",
    "\n",
    "df = pd.DataFrame(container, columns=['Date', 'Type', 'Exchange', 'Base amount', 'Base currency',\n",
    "                                      'Quote amount', 'Quote currency', 'Fee', 'Fee currency',\n",
    "                                      'Costs/Proceeds', 'Costs/Proceeds currency', 'Sync holdings',\n",
    "                                      'Sent/Received from', 'Sent to', 'Notes'])\n",
    "\n",
    "name_out = f'{fname}_proc_binance.csv'\n",
    "print(f'Saving file as {name_out}')\n",
    "df.to_csv(name_out, index=False)"
   ],
   "metadata": {
    "collapsed": false,
    "pycharm": {
     "name": "#%%\n"
    }
   }
  },
  {
   "cell_type": "code",
   "execution_count": 15,
   "outputs": [
    {
     "data": {
      "text/plain": "                       Date      Type Exchange    Base amount Base currency  \\\n0   2021-03-11 14:53:58 UTC       BUY     Buda       0.534351           ETH   \n1   2021-03-11 14:43:15 UTC  TRANSFER     None       0.500000           ETH   \n2   2021-03-11 14:28:52 UTC   DEPOSIT     Buda  700000.000000           CLP   \n3   2021-03-11 13:56:12 UTC  TRANSFER     None       0.530000           ETH   \n4   2021-03-11 13:23:41 UTC       BUY     Buda       0.532319           ETH   \n..                      ...       ...      ...            ...           ...   \n95      2021-03-11 21:14:49       BUY  Binance       6.060000          LINK   \n96      2021-03-11 12:36:36      SELL  Binance      79.750000          RUNE   \n97      2021-03-10 22:46:50       BUY  Binance     159.660000          RUNE   \n98      2021-03-10 16:59:34      SELL  Binance       0.008531           BTC   \n99      2021-03-09 13:41:44      SELL  Binance       0.186090           ETH   \n\n     Quote amount Quote currency       Fee Fee currency Costs/Proceeds  \\\n0   700000.000000            CLP  0.001870          ETH           None   \n1             NaN           None  0.011440          ETH           None   \n2             NaN           None       NaN         None           None   \n3             NaN           None  0.010000          ETH           None   \n4   700000.000000            CLP  0.001863          ETH           None   \n..            ...            ...       ...          ...            ...   \n95     180.466800           USDT  0.006060         LINK           None   \n96     528.016775           USDT  0.528017         USDT           None   \n97    1026.821358           USDT  0.159660         RUNE           None   \n98     486.778860           USDT  0.486779         USDT           None   \n99     339.783592           USDT  0.339784         USDT           None   \n\n   Costs/Proceeds currency  Sync holdings Sent/Received from    Sent to  \\\n0                     None              1               None       None   \n1                     None              0               Buda  MY_WALLET   \n2                     None              0              OTHER       Buda   \n3                     None              0               Buda  MY_WALLET   \n4                     None              1               None       None   \n..                     ...            ...                ...        ...   \n95                    None              1               None       None   \n96                    None              1               None       None   \n97                    None              1               None       None   \n98                    None              1               None       None   \n99                    None              1               None       None   \n\n                                   Notes  \n0   09a65493-a7a4-4a02-92a2-9ac434036653  \n1   105ca170-733f-4a39-b578-e1310b1c41a2  \n2   47574cff-74f2-493b-83b7-fd46890cbcfc  \n3   579833f9-e43f-42b5-ac85-f24fd1c44813  \n4   2d1e9e70-aa8f-48a6-8b70-055ea3f574e5  \n..                                   ...  \n95                   Binance transaction  \n96                   Binance transaction  \n97                   Binance transaction  \n98                   Binance transaction  \n99                   Binance transaction  \n\n[100 rows x 15 columns]",
      "text/html": "<div>\n<style scoped>\n    .dataframe tbody tr th:only-of-type {\n        vertical-align: middle;\n    }\n\n    .dataframe tbody tr th {\n        vertical-align: top;\n    }\n\n    .dataframe thead th {\n        text-align: right;\n    }\n</style>\n<table border=\"1\" class=\"dataframe\">\n  <thead>\n    <tr style=\"text-align: right;\">\n      <th></th>\n      <th>Date</th>\n      <th>Type</th>\n      <th>Exchange</th>\n      <th>Base amount</th>\n      <th>Base currency</th>\n      <th>Quote amount</th>\n      <th>Quote currency</th>\n      <th>Fee</th>\n      <th>Fee currency</th>\n      <th>Costs/Proceeds</th>\n      <th>Costs/Proceeds currency</th>\n      <th>Sync holdings</th>\n      <th>Sent/Received from</th>\n      <th>Sent to</th>\n      <th>Notes</th>\n    </tr>\n  </thead>\n  <tbody>\n    <tr>\n      <th>0</th>\n      <td>2021-03-11 14:53:58 UTC</td>\n      <td>BUY</td>\n      <td>Buda</td>\n      <td>0.534351</td>\n      <td>ETH</td>\n      <td>700000.000000</td>\n      <td>CLP</td>\n      <td>0.001870</td>\n      <td>ETH</td>\n      <td>None</td>\n      <td>None</td>\n      <td>1</td>\n      <td>None</td>\n      <td>None</td>\n      <td>09a65493-a7a4-4a02-92a2-9ac434036653</td>\n    </tr>\n    <tr>\n      <th>1</th>\n      <td>2021-03-11 14:43:15 UTC</td>\n      <td>TRANSFER</td>\n      <td>None</td>\n      <td>0.500000</td>\n      <td>ETH</td>\n      <td>NaN</td>\n      <td>None</td>\n      <td>0.011440</td>\n      <td>ETH</td>\n      <td>None</td>\n      <td>None</td>\n      <td>0</td>\n      <td>Buda</td>\n      <td>MY_WALLET</td>\n      <td>105ca170-733f-4a39-b578-e1310b1c41a2</td>\n    </tr>\n    <tr>\n      <th>2</th>\n      <td>2021-03-11 14:28:52 UTC</td>\n      <td>DEPOSIT</td>\n      <td>Buda</td>\n      <td>700000.000000</td>\n      <td>CLP</td>\n      <td>NaN</td>\n      <td>None</td>\n      <td>NaN</td>\n      <td>None</td>\n      <td>None</td>\n      <td>None</td>\n      <td>0</td>\n      <td>OTHER</td>\n      <td>Buda</td>\n      <td>47574cff-74f2-493b-83b7-fd46890cbcfc</td>\n    </tr>\n    <tr>\n      <th>3</th>\n      <td>2021-03-11 13:56:12 UTC</td>\n      <td>TRANSFER</td>\n      <td>None</td>\n      <td>0.530000</td>\n      <td>ETH</td>\n      <td>NaN</td>\n      <td>None</td>\n      <td>0.010000</td>\n      <td>ETH</td>\n      <td>None</td>\n      <td>None</td>\n      <td>0</td>\n      <td>Buda</td>\n      <td>MY_WALLET</td>\n      <td>579833f9-e43f-42b5-ac85-f24fd1c44813</td>\n    </tr>\n    <tr>\n      <th>4</th>\n      <td>2021-03-11 13:23:41 UTC</td>\n      <td>BUY</td>\n      <td>Buda</td>\n      <td>0.532319</td>\n      <td>ETH</td>\n      <td>700000.000000</td>\n      <td>CLP</td>\n      <td>0.001863</td>\n      <td>ETH</td>\n      <td>None</td>\n      <td>None</td>\n      <td>1</td>\n      <td>None</td>\n      <td>None</td>\n      <td>2d1e9e70-aa8f-48a6-8b70-055ea3f574e5</td>\n    </tr>\n    <tr>\n      <th>...</th>\n      <td>...</td>\n      <td>...</td>\n      <td>...</td>\n      <td>...</td>\n      <td>...</td>\n      <td>...</td>\n      <td>...</td>\n      <td>...</td>\n      <td>...</td>\n      <td>...</td>\n      <td>...</td>\n      <td>...</td>\n      <td>...</td>\n      <td>...</td>\n      <td>...</td>\n    </tr>\n    <tr>\n      <th>95</th>\n      <td>2021-03-11 21:14:49</td>\n      <td>BUY</td>\n      <td>Binance</td>\n      <td>6.060000</td>\n      <td>LINK</td>\n      <td>180.466800</td>\n      <td>USDT</td>\n      <td>0.006060</td>\n      <td>LINK</td>\n      <td>None</td>\n      <td>None</td>\n      <td>1</td>\n      <td>None</td>\n      <td>None</td>\n      <td>Binance transaction</td>\n    </tr>\n    <tr>\n      <th>96</th>\n      <td>2021-03-11 12:36:36</td>\n      <td>SELL</td>\n      <td>Binance</td>\n      <td>79.750000</td>\n      <td>RUNE</td>\n      <td>528.016775</td>\n      <td>USDT</td>\n      <td>0.528017</td>\n      <td>USDT</td>\n      <td>None</td>\n      <td>None</td>\n      <td>1</td>\n      <td>None</td>\n      <td>None</td>\n      <td>Binance transaction</td>\n    </tr>\n    <tr>\n      <th>97</th>\n      <td>2021-03-10 22:46:50</td>\n      <td>BUY</td>\n      <td>Binance</td>\n      <td>159.660000</td>\n      <td>RUNE</td>\n      <td>1026.821358</td>\n      <td>USDT</td>\n      <td>0.159660</td>\n      <td>RUNE</td>\n      <td>None</td>\n      <td>None</td>\n      <td>1</td>\n      <td>None</td>\n      <td>None</td>\n      <td>Binance transaction</td>\n    </tr>\n    <tr>\n      <th>98</th>\n      <td>2021-03-10 16:59:34</td>\n      <td>SELL</td>\n      <td>Binance</td>\n      <td>0.008531</td>\n      <td>BTC</td>\n      <td>486.778860</td>\n      <td>USDT</td>\n      <td>0.486779</td>\n      <td>USDT</td>\n      <td>None</td>\n      <td>None</td>\n      <td>1</td>\n      <td>None</td>\n      <td>None</td>\n      <td>Binance transaction</td>\n    </tr>\n    <tr>\n      <th>99</th>\n      <td>2021-03-09 13:41:44</td>\n      <td>SELL</td>\n      <td>Binance</td>\n      <td>0.186090</td>\n      <td>ETH</td>\n      <td>339.783592</td>\n      <td>USDT</td>\n      <td>0.339784</td>\n      <td>USDT</td>\n      <td>None</td>\n      <td>None</td>\n      <td>1</td>\n      <td>None</td>\n      <td>None</td>\n      <td>Binance transaction</td>\n    </tr>\n  </tbody>\n</table>\n<p>100 rows × 15 columns</p>\n</div>"
     },
     "execution_count": 15,
     "metadata": {},
     "output_type": "execute_result"
    }
   ],
   "source": [
    "df.head(100)"
   ],
   "metadata": {
    "collapsed": false,
    "pycharm": {
     "name": "#%%\n"
    }
   }
  },
  {
   "cell_type": "markdown",
   "source": [
    "## Calculating total balances"
   ],
   "metadata": {
    "collapsed": false,
    "pycharm": {
     "name": "#%% md\n"
    }
   }
  },
  {
   "cell_type": "code",
   "execution_count": 31,
   "outputs": [],
   "source": [
    "def update_coin(_dict, _coin, _value):\n",
    "    if not _coin or not _value:  # either no coin or no value\n",
    "        return\n",
    "\n",
    "    try:  # if it exist we update value\n",
    "        _dict[_coin] = _dict[_coin] + _value\n",
    "    except KeyError:  # if it doesn't we create a new one\n",
    "        _dict[_coin] = _value\n",
    "\n",
    "    return"
   ],
   "metadata": {
    "collapsed": false,
    "pycharm": {
     "name": "#%%\n"
    }
   }
  },
  {
   "cell_type": "code",
   "execution_count": 32,
   "outputs": [
    {
     "name": "stdout",
     "output_type": "stream",
     "text": [
      "{'ETH': 6.342328191000003, 'CLP': 175728.37, 'BTC': 0.02911931000000001, 'RUNE': 0.00033999999999659303, 'USDT': 2183.42698241, 'LINK': 54.60569999999999, 'GRT': 351.23920000000004, 'RSR': 0.9962000000021135, 'ATOM': 5.010984, 'USDC': 0.009352359999790005, 'MKR': 0.0007469999999999852, 'AAVE': 0.0059900000000000795, 'CRV': 0.0028799999999590264, 'YFI': 7.83e-05, 'FET': 266.733, 'COTI': 0.99500000000001, '1INCH': 0.009140000000007947, 'TOMO': -0.04000000000000034, 'DOT': 0.07200000000000062, 'OCEAN': 24.878999999999994, 'SXP': 1.998, 'REN': 0.8839999999999999, 'IDEX': 7.97, 'DOGE': 419.58}\n"
     ]
    }
   ],
   "source": [
    "total = dict()\n",
    "for _, line in df.iterrows():\n",
    "    # first of all, if not a BUY, SELL or DEPOSIT we continue\n",
    "    if line['Type'] not in ['BUY', 'SELL', 'DEPOSIT']:\n",
    "        continue\n",
    "\n",
    "    # if SELL we invert signs\n",
    "    if line['Type'] == 'SELL':\n",
    "        sign = -1\n",
    "    else:\n",
    "        sign = 1\n",
    "\n",
    "    update_coin(total, line['Base currency'], line['Base amount'] * sign)\n",
    "    update_coin(total, line['Quote currency'], line['Quote amount'] * -sign)\n",
    "    update_coin(total, line['Fee currency'], -line['Fee'])\n",
    "\n",
    "print(total)"
   ],
   "metadata": {
    "collapsed": false,
    "pycharm": {
     "name": "#%%\n"
    }
   }
  }
 ],
 "metadata": {
  "kernelspec": {
   "display_name": "Python 3",
   "language": "python",
   "name": "python3"
  },
  "language_info": {
   "codemirror_mode": {
    "name": "ipython",
    "version": 2
   },
   "file_extension": ".py",
   "mimetype": "text/x-python",
   "name": "python",
   "nbconvert_exporter": "python",
   "pygments_lexer": "ipython2",
   "version": "2.7.6"
  }
 },
 "nbformat": 4,
 "nbformat_minor": 0
}